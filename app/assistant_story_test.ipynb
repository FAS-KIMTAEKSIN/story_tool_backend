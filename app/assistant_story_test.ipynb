{
 "cells": [
  {
   "cell_type": "markdown",
   "metadata": {},
   "source": [
    "# Assistant API 테스트 노트북\n",
    "\n",
    "이 노트북은 OpenAI Assistant API와 Chat Completion API를 사용한 스토리 생성 및 검색 기능을 테스트합니다."
   ]
  },
  {
   "cell_type": "code",
   "metadata": {
    "ExecuteTime": {
     "end_time": "2025-02-27T06:22:55.210304Z",
     "start_time": "2025-02-27T06:22:53.610551Z"
    }
   },
   "source": [
    "# 필요한 라이브러리 임포트\n",
    "import sys\n",
    "import os\n",
    "import json\n",
    "import time\n",
    "from dotenv import load_dotenv\n",
    "from openai import OpenAI\n",
    "from app.config import Config\n",
    "# 현재 디렉토리를 시스템 경로에 추가\n",
    "sys.path.append(os.path.abspath('..'))\n",
    "\n",
    "# 환경 변수 로드\n",
    "load_dotenv()\n",
    "\n",
    "# OpenAI 클라이언트 초기화\n",
    "client = OpenAI()"
   ],
   "outputs": [
    {
     "name": "stdout",
     "output_type": "stream",
     "text": [
      "GPT-4o Assistant retrieved: asst_Mp2a52hDvIkr0oEk7xdqiKnA\n",
      "Assistants initialized successfully\n"
     ]
    }
   ],
   "execution_count": 1
  },
  {
   "cell_type": "markdown",
   "metadata": {},
   "source": [
    "## 1. Assistant API 초기화 및 확인"
   ]
  },
  {
   "cell_type": "code",
   "metadata": {
    "ExecuteTime": {
     "end_time": "2025-02-27T06:22:58.548439Z",
     "start_time": "2025-02-27T06:22:57.755718Z"
    }
   },
   "source": [
    "# 환경 변수에서 Assistant ID 가져오기\n",
    "gpt4o_assistant_id = os.getenv('GPT4O_ASSISTANT_ID', '')\n",
    "\n",
    "# Assistant ID가 있으면 조회, 없으면 새로 생성\n",
    "if gpt4o_assistant_id:\n",
    "    try:\n",
    "        gpt4o_assistant = client.beta.assistants.retrieve(gpt4o_assistant_id)\n",
    "        print(f\"GPT-4o Assistant retrieved: {gpt4o_assistant.id}\")\n",
    "    except Exception as e:\n",
    "        print(f\"Error retrieving GPT-4o Assistant: {str(e)}\")\n",
    "        gpt4o_assistant = None\n",
    "else:\n",
    "    gpt4o_assistant = None\n",
    "\n",
    "# Assistant가 없으면 새로 생성\n",
    "if gpt4o_assistant is None:\n",
    "    # 시스템 프롬프트 정의\n",
    "    HYBRID_SYSTEM_PROMPT = \"\"\"당신은 고전 문학 전문 작가입니다. 주어진 내용을 기반으로 더 풍부하고 자세한 내용의 이야기를 생성해주세요.\n",
    "\n",
    "다음 지침을 반드시 따라주세요:\n",
    "1. 고전 문학의 특징적인 표현과 문체를 사용해주세요.\n",
    "2. 모든 외래어와 현대적 표현은 주어진 내용이더라도 예외 없이 한자어나 순우리말로 바꾸어야 합니다.\n",
    "   변환 원칙:\n",
    "   - 현대 과학용어는 천지조화/자연의 이치 관련 한자어로 변환\n",
    "   - 괴물/요정 등은 귀신/요괴/괴이한 것 등 전통적 초자연 존재로 변환\n",
    "   - 현대 직업/역할은 그에 준하는 전통 직업/역할로 변환\n",
    "   - 현대 사회 용어는 그 본질적 의미를 담은 한자어로 변환\n",
    "   \n",
    "   예시:\n",
    "   - 하이틴 로맨스 → 꽃다운 나이의 사랑 이야기\n",
    "   - 빌런 → 악인\n",
    "3. 판타지적이거나 비현실적인 요소는 처음 등장할 때 그 특성을 상세히 설명한 후, 이후에는 정해진 한자어나 순우리말로 표현하세요.\n",
    "   설명 원칙:\n",
    "   - 그 존재/현상의 본질적 특성을 먼저 서술\n",
    "   - 전통적인 귀신/요괴 명명법을 따라 적절한 한자어 작명\n",
    "   - 이후 그 한자어 명칭을 일관되게 사용\n",
    "   \n",
    "   예시:\n",
    "   - 좀비 → \"기괴한 몰골에 악취를 풍기고 짐승 소리를 내며 인육을 탐하는 자들이 나타났다. 특히 사람의 피에 민감히 반응하니, 이는 곧 생사역(生死疫)이라 불리는 괴질이라.\" 설명 후 '생사역 걸린 자'로 지속 사용\n",
    "4. 시대적 배경과 분위기를 자연스럽게 반영해주세요.\n",
    "5. 새로운 사건이나 인물을 추가하지 말고, 기존 내용을 더 풍부하게 표현해주세요.\n",
    "6. 인물의 심리 묘사, 배경 설명, 상황 묘사를 더 상세하게 추가해주세요.\n",
    "7. 문장 간의 자연스러운 연결과 흐름을 유지해주세요.\n",
    "8. 원본 내용의 핵심 내용, 인물, 사건, 감정을 유지하면서 확장해주세요.\n",
    "\n",
    "결과물은 하나의 이야기로 작성해주세요.\n",
    "\"\"\"\n",
    "    \n",
    "    # Assistant 생성\n",
    "    gpt4o_assistant = client.beta.assistants.create(\n",
    "        name=\"Story Expander\",\n",
    "        instructions=HYBRID_SYSTEM_PROMPT,\n",
    "        model=Config.GPT_4O_MODEL\n",
    "    )\n",
    "    print(f\"New GPT-4o Assistant created: {gpt4o_assistant.id}\")\n",
    "    print(f\"GPT4O_ASSISTANT_ID={gpt4o_assistant.id}\")\n",
    "\n",
    "# Assistant 정보 출력\n",
    "print(f\"\\nAssistant Name: {gpt4o_assistant.name}\")\n",
    "print(f\"Assistant Model: {gpt4o_assistant.model}\")"
   ],
   "outputs": [
    {
     "name": "stdout",
     "output_type": "stream",
     "text": [
      "GPT-4o Assistant retrieved: asst_Mp2a52hDvIkr0oEk7xdqiKnA\n",
      "\n",
      "Assistant Name: Story Expander\n",
      "Assistant Model: gpt-4o-2024-11-20\n"
     ]
    }
   ],
   "execution_count": 2
  },
  {
   "cell_type": "markdown",
   "metadata": {},
   "source": [
    "## 2. 기본 스토리 생성 테스트 (Chat Completion API)"
   ]
  },
  {
   "cell_type": "code",
   "metadata": {
    "ExecuteTime": {
     "end_time": "2025-02-27T06:23:47.634926Z",
     "start_time": "2025-02-27T06:23:42.325518Z"
    }
   },
   "source": [
    "def generate_base_story(theme, tags={}):\n",
    "    \"\"\"파인튜닝된 모델로 기본 스토리 생성\"\"\"\n",
    "    # 키워드 추출\n",
    "    keywords = extract_keywords(theme)\n",
    "    \n",
    "    # 프롬프트 포맷팅\n",
    "    STORY_GENERATION_PROMPT = \"\"\"당신은 다양한 장르의 전문 작가입니다. 제시된 라벨링 기준을 참고하여 이야기를 생성해 주세요.\n",
    "\n",
    "- 주어진 내용분류, 주제어, 주제문은 생성될 단락의 라벨링입니다.\n",
    "- 장르와 배경에 맞는 적절한 문체와 표현을 사용해주세요.\n",
    "- 인물의 행동, 대화, 감정을 자연스럽게 표현해주세요.\n",
    "- 상황과 인물 관계를 효과적으로 담아주세요.\"\"\"\n",
    "    \n",
    "    # 태그 포맷팅\n",
    "    tags_str = json.dumps(tags, ensure_ascii=False) if tags else \"\"\n",
    "    \n",
    "    # 파인튜닝된 모델로 스토리 생성\n",
    "    response = client.chat.completions.create(\n",
    "        model=Config.FINE_TUNED_MODEL,  # 파인튜닝된 모델 ID\n",
    "        messages=[\n",
    "            {\"role\": \"system\", \"content\": STORY_GENERATION_PROMPT},\n",
    "            {\"role\": \"user\", \"content\": f\"[내용 분류]\\n{tags_str}\\n\\n[주제어]\\n{keywords}\\n\\n[주제문]\\n{theme}\"}\n",
    "        ],\n",
    "        temperature=0.7\n",
    "    )\n",
    "    \n",
    "    return response.choices[0].message.content\n",
    "\n",
    "def extract_keywords(theme):\n",
    "    \"\"\"주제문에서 키워드 추출\"\"\"\n",
    "    response = client.chat.completions.create(\n",
    "        model=Config.GPT_MINI_MODEL,\n",
    "        messages=[\n",
    "            {\n",
    "                \"role\": \"system\",\n",
    "                \"content\": \"당신은 주제문에서 핵심 주제어를 추출하는 전문가입니다. \"\n",
    "                          \"주제문을 분석하여 3-10개의 핵심 주제어를 추출해주세요. \"\n",
    "                          \"주제어는 쉼표로 구분된 단어나 구문으로 반환해주세요. \"\n",
    "                          \"다른 설명이나 부가적인 내용 없이 주제어만 반환해주세요.\"\n",
    "            },\n",
    "            {\n",
    "                \"role\": \"user\",\n",
    "                \"content\": theme\n",
    "            }\n",
    "        ],\n",
    "        temperature=0.3\n",
    "    )\n",
    "    return response.choices[0].message.content.strip()\n",
    "\n",
    "# 테스트 실행\n",
    "test_theme = \"젊은 선비가 과거시험을 보러 가는 길에 이상한 여인을 만나 사랑에 빠지는 이야기\"\n",
    "test_tags = {\n",
    "    \"genre\": [\"로맨스\", \"판타지\"],\n",
    "    \"characters\": [\"선비\", \"여인\"],\n",
    "    \"emotion\": [\"사랑\", \"설렘\"]\n",
    "}\n",
    "\n",
    "base_story = generate_base_story(test_theme, test_tags)\n",
    "print(\"\\n=== 기본 스토리 ===\\n\")\n",
    "print(base_story)"
   ],
   "outputs": [
    {
     "name": "stdout",
     "output_type": "stream",
     "text": [
      "\n",
      "=== 기본 스토리 ===\n",
      "\n",
      "대나무로 된 젊은 선비는 운남으로 과거시험을 보러 가는 길에, 한 여자가 갑자기 그 앞에 나타나 마치 물 위를 걷는 듯했다. 선비는 그녀에게 물었고, 여인은 웃으며 \"어디로 가는 길입니까?\"라고 물었다. 선비는 길에 대해 이야기했고, 여인은 돌아가려 했다. 선비는 그녀가 매우 아름답고, 그녀의 말이 매우 단정하다고 느꼈다. 그래서 그녀를 붙잡아야겠다고 생각했고, 결국 그녀의 아름다운 몸을 사랑하게 되었다.\n"
     ]
    }
   ],
   "execution_count": 3
  },
  {
   "cell_type": "markdown",
   "metadata": {},
   "source": [
    "## 3. Assistant API로 스토리 확장 테스트"
   ]
  },
  {
   "cell_type": "code",
   "metadata": {
    "ExecuteTime": {
     "end_time": "2025-02-27T06:24:26.604350Z",
     "start_time": "2025-02-27T06:24:26.165760Z"
    }
   },
   "source": [
    "# 쓰레드 아이디 출력\n",
    "response = client.beta.threads.create()\n",
    "print(f\"response: {response}\")\n",
    "print(f\"thread id: {response.id}\")"
   ],
   "outputs": [
    {
     "name": "stdout",
     "output_type": "stream",
     "text": [
      "response: Thread(id='thread_ogoQrqo2yk3XkDYELMDn1IMc', created_at=1740637466, metadata={}, object='thread', tool_resources=ToolResources(code_interpreter=None, file_search=None))\n",
      "thread id: thread_ogoQrqo2yk3XkDYELMDn1IMc\n"
     ]
    }
   ],
   "execution_count": 4
  },
  {
   "cell_type": "code",
   "metadata": {
    "ExecuteTime": {
     "end_time": "2025-02-27T06:27:16.137733Z",
     "start_time": "2025-02-27T06:27:16.132479Z"
    }
   },
   "source": "THREAD_ID = \"thread_ogoQrqo2yk3XkDYELMDn1IMc\" # 쓰레드 아이디 고정",
   "outputs": [],
   "execution_count": 7
  },
  {
   "cell_type": "code",
   "metadata": {
    "ExecuteTime": {
     "end_time": "2025-02-27T06:27:41.176099Z",
     "start_time": "2025-02-27T06:27:17.237152Z"
    }
   },
   "source": [
    "def expand_story_with_assistant(base_story):\n",
    "    \"\"\"Assistant API를 사용하여 스토리 확장\"\"\"\n",
    "    # Thread 생성\n",
    "    thread = client.beta.threads.create()\n",
    "    \n",
    "    # 메시지 추가\n",
    "    client.beta.threads.messages.create(\n",
    "        thread_id=THREAD_ID,\n",
    "        role=\"user\",\n",
    "        content=f\"다음 이야기를 더 풍부하게 확장해주세요:\\n\\n{base_story}\"\n",
    "    )\n",
    "    \n",
    "    # Run 생성 및 완료 대기\n",
    "    run = client.beta.threads.runs.create(\n",
    "        thread_id=THREAD_ID,\n",
    "        assistant_id=gpt4o_assistant.id\n",
    "    )\n",
    "    \n",
    "    print(f\"[DEBUG]: run response: {run}\")\n",
    "    \n",
    "    # Run 완료 대기\n",
    "    print(\"Assistant API 처리 중...\", end=\"\")\n",
    "    while True:\n",
    "        run_status = client.beta.threads.runs.retrieve(\n",
    "            thread_id=THREAD_ID,\n",
    "            run_id=run.id\n",
    "        )\n",
    "        if run_status.status == 'completed':\n",
    "            print(\" 완료!\")\n",
    "            break\n",
    "        elif run_status.status in ['failed', 'cancelled', 'expired']:\n",
    "            print(f\"\\nError: {run_status.status}\")\n",
    "            return None\n",
    "        print(\".\", end=\"\", flush=True)\n",
    "        time.sleep(1)\n",
    "    \n",
    "    # 결과 메시지 가져오기\n",
    "    messages = client.beta.threads.messages.list(\n",
    "        thread_id=THREAD_ID\n",
    "    )\n",
    "    \n",
    "    # 마지막 메시지 (Assistant의 응답) 가져오기\n",
    "    for message in messages.data:\n",
    "        if message.role == \"assistant\":\n",
    "            return message.content[0].text.value\n",
    "    \n",
    "    return None\n",
    "\n",
    "# 테스트 실행\n",
    "expanded_story = expand_story_with_assistant(base_story)\n",
    "print(\"\\n=== 확장된 스토리 ===\\n\")\n",
    "print(expanded_story)"
   ],
   "outputs": [
    {
     "name": "stdout",
     "output_type": "stream",
     "text": [
      "[DEBUG]: run response: Run(id='run_bD9Y0ugiTzekl19atRKYXHH3', assistant_id='asst_Mp2a52hDvIkr0oEk7xdqiKnA', cancelled_at=None, completed_at=None, created_at=1740637638, expires_at=1740638238, failed_at=None, incomplete_details=None, instructions='당신은 고전 문학 전문 작가입니다. 주어진 내용을 기반으로 더 풍부하고 자세한 내용의 이야기를 생성해주세요.\\n\\n다음 지침을 반드시 따라주세요:\\n1. 고전 문학의 특징적인 표현과 문체를 사용해주세요.\\n2. 모든 외래어와 현대적 표현은 주어진 내용이더라도 예외 없이 한자어나 순우리말로 바꾸어야 합니다.\\n   변환 원칙:\\n   - 현대 과학용어는 천지조화/자연의 이치 관련 한자어로 변환\\n   - 괴물/요정 등은 귀신/요괴/괴이한 것 등 전통적 초자연 존재로 변환\\n   - 현대 직업/역할은 그에 준하는 전통 직업/역할로 변환\\n   - 현대 사회 용어는 그 본질적 의미를 담은 한자어로 변환\\n   \\n   예시:\\n   - 하이틴 로맨스 → 꽃다운 나이의 사랑 이야기\\n   - 빌런 → 악인\\n3. 판타지적이거나 비현실적인 요소는 처음 등장할 때 그 특성을 상세히 설명한 후, 이후에는 정해진 한자어나 순우리말로 표현하세요.\\n   설명 원칙:\\n   - 그 존재/현상의 본질적 특성을 먼저 서술\\n   - 전통적인 귀신/요괴 명명법을 따라 적절한 한자어 작명\\n   - 이후 그 한자어 명칭을 일관되게 사용\\n   \\n   예시:\\n   - 좀비 → \"기괴한 몰골에 악취를 풍기고 짐승 소리를 내며 인육을 탐하는 자들이 나타났다. 특히 사람의 피에 민감히 반응하니, 이는 곧 생사역(生死疫)이라 불리는 괴질이라.\" 설명 후 \\'생사역 걸린 자\\'로 지속 사용\\n4. 시대적 배경과 분위기를 자연스럽게 반영해주세요.\\n5. 새로운 사건이나 인물을 추가하지 말고, 기존 내용을 더 풍부하게 표현해주세요.\\n6. 인물의 심리 묘사, 배경 설명, 상황 묘사를 더 상세하게 추가해주세요.\\n7. 문장 간의 자연스러운 연결과 흐름을 유지해주세요.\\n8. 원본 내용의 핵심 내용, 인물, 사건, 감정을 유지하면서 확장해주세요.\\n\\n결과물은 하나의 이야기로 작성해주세요.\\n', last_error=None, max_completion_tokens=None, max_prompt_tokens=None, metadata={}, model='gpt-4o-2024-11-20', object='thread.run', parallel_tool_calls=True, required_action=None, response_format='auto', started_at=None, status='queued', thread_id='thread_ogoQrqo2yk3XkDYELMDn1IMc', tool_choice='auto', tools=[], truncation_strategy=TruncationStrategy(type='auto', last_messages=None), usage=None, temperature=1.0, top_p=1.0, tool_resources={}, reasoning_effort=None)\n",
      "Assistant API 처리 중.............. 완료!\n",
      "\n",
      "=== 확장된 스토리 ===\n",
      "\n",
      "대나무로 된 젊은 선비는 늠름하고도 인자한 기품을 가진 사내로, 그 이름은 이화(李華)라 하였다. 운남으로 과거를 보러 떠나는 길에, 그는 깊은 산과 울창한 숲길을 지나고 있었다. 바람이 나뭇잎을 스치며 은은히 바람소리를 전하고, 그의 걸음은 무겁지도 가볍지도 않게 절제되어 있었다. 이화는 학문에 진실한 사람이었으나, 아직 젊은 혈기와 낭만적인 마음도 지녔으니, 세상을 헤쳐나가는 열정과 호기심이 그 눈빛 속에는 가득하였다.\n",
      "\n",
      "그날은 하늘의 기운이 묘하게도 흔들려 구름이 변덕스럽게 움직이더니, 갑작스레 눈앞에 한 여인이 나타났다. 그녀는 마치 허공 속에서 나타난 듯, 물결을 거스르듯이 그 발자국은 흔적이 없었다. 이화는 멈춰서서 그녀를 그윽한 시선으로 주목하였다. 여인의 옷자락은 연못 위의 구름처럼 가볍고 부드러웠으며 얼굴의 고운 빛은 은은한 달빛을 닮았다. 그녀는 선명하게 빛나는 눈동자로 이화를 마주하다가, 입가에 잔잔한 미소를 머금고 입을 열었다.\n",
      "\n",
      "“대감댁 공자님, 어디로 가시는 길입니까?” 그녀의 목소리는 맑은 계곡물처럼 부드럽고 명확하였다. 이화는 약간의 놀라움과 함께 그녀를 찬찬히 살피더니 대답하였다.\n",
      "\n",
      "“소승은 운남으로 과거를 치르러 떠나는 정처 없는 나그넵니다. 그런데 여인이 홀로 이 깊은 산 속에 나타나다니, 실로 괴이하게 여겨지는군요. 무슨 연유로 여기 계시는지 묻고 싶습니다.”\n",
      "\n",
      "여인은 미소를 띠며 그의 물음에 대답하지 않았다. 대신 물끄러미 그의 얼굴을 바라보다가 희미하게 고개를 끄덕이고는 사뿐히 물러섰다. 그녀의 걸음걸이는 마치 물 위를 걷듯이 허공에 묘하게 흩어지며 사라지려 하고 있었다. 그때 이화는 이상하게도 그의 가슴속에서 알 수 없는 끌림이 일어났으니, 그 여인의 아름다운 모습과 형언할 수 없는 단아한 분위기에 매혹되었기 때문이었다.\n",
      "\n",
      "“잠깐만 기다려 주십시오!” 이화는 그녀의 뒤를 쫓아 말을 건넸다. “어디로 가시려는지요? 가는 길에 면면히 무언가 묻고 얻고자 하옵니다.” \n",
      "\n",
      "여인은 발길을 돌리고 가만히 이화를 보았다. “이 깊은 산중에서 길 잃은 이에게 대답해 줄 것은 없습니다. 이 또한 인연이 짧은 걸음이라면, 억지로 붙잡을 수는 없지요.” 그녀의 태도는 냉담하지도 않고, 친밀하지도 않은 중용의 아름다움을 지니고 있었다.\n",
      "\n",
      "그러나 이화의 마음에는 이미 홀리지 않을 수 없는 열망이 자리하였다. 그는 다시 다가가며 말했다. “어느 곳에서 온 누구인지 말해 주실 수는 없겠습니까? 그렇지 않더라도, 이 운명이란 것을 좀 더 알아가게 허락해 주옵소서.” 그의 눈빛에는 간절함과 호기심이 서려 있었고, 그의 말에는 예(禮)가 묻어 있었다.\n",
      "\n",
      "조금의 망설임 끝에 여인은 이화의 요청을 받아들였다. 둘은 한동안 말을 나누다 점점 서로에 대해 알게 되었고, 이화는 그녀에게 끌리는 마음을 결국 억누를 수 없었다. 여인의 고운 얼굴빛에 비칠 뿐 아니라, 그 맑고 단아한 말씨에 그의 가슴은 점점 빠져들었고, 이윽고 운명이라 믿는 마음으로 그녀에게 애정을 표현하였다.\n",
      "\n",
      "그들의 대화와 시선이 깊어지며, 여인의 얼굴에는 조금의 비감도 드리워졌는데, 그녀는 덧없고 아련한 말투로 말했다. “선비님과의 만남은 필연의 끈이 닿았으나, 나 또한 한정 없는 존재라. 곧 하늘 아래로 사라질 구름 같은 목숨이라 한시의 흐름으로 화하는 몸, 오래 머물지 못할 것을 아셔야 하옵니다.”\n",
      "\n",
      "그의 가슴은 그녀의 말에 충격과 미련으로 울리며 혼란스러웠으나, 끝내 그는 그녀를 향한 애정을 거둘 수 없었다. “그리하여도 괜찮습니다. 이 모든 것이 덧없다 하더라도, 그럼에도 불구하고 당신의 곁에 있고 싶습니다.” 이화의 목소리에는 강렬한 사랑의 의지가 서려 있었고, 그의 눈은 밝게 빛났다.\n",
      "\n",
      "그러나 그 순간, 그녀의 형상이 마치 흐릿한 안개처럼 허공으로 사라지기 시작했다. 그녀의 존재가 이내 눈앞에서 아스라히 사라지자, 이화는 눈물이 흐르듯 목놓아 잡으려 했으나 허사였다. 남겨진 것은 그녀의 미소와, 가슴 속 메아리처럼 울리는 그녀의 말뿐이었다.\n",
      "\n",
      "그날 이후로 이화는 산을 떠나 다시는 그녀를 만날 수 없었으나, 오랜 세월 그녀의 모습을 마음속 깊이 간직하며, 때로는 꿈에서도 그 모습을 그리워하였다. 세월의 흘렀음에도 그날의 황홀함은 그의 삶 속에 깊이 박혀, 마치 한 편의 시와도 같은 추억으로 살아 숨 쉬고 있었다.\n"
     ]
    }
   ],
   "execution_count": 8
  },
  {
   "metadata": {
    "ExecuteTime": {
     "end_time": "2025-02-27T06:40:23.024049Z",
     "start_time": "2025-02-27T06:40:22.088058Z"
    }
   },
   "cell_type": "code",
   "source": [
    "# 확장된 스토리 다시 조회\n",
    "thread_messages = client.beta.threads.messages.list(THREAD_ID)\n",
    "print(thread_messages.data)"
   ],
   "outputs": [
    {
     "name": "stdout",
     "output_type": "stream",
     "text": [
      "[Message(id='msg_5VhX5yBw8G8dDAiKwdfM352X', assistant_id='asst_Mp2a52hDvIkr0oEk7xdqiKnA', attachments=[], completed_at=None, content=[TextContentBlock(text=Text(annotations=[], value='대나무로 된 젊은 선비는 늠름하고도 인자한 기품을 가진 사내로, 그 이름은 이화(李華)라 하였다. 운남으로 과거를 보러 떠나는 길에, 그는 깊은 산과 울창한 숲길을 지나고 있었다. 바람이 나뭇잎을 스치며 은은히 바람소리를 전하고, 그의 걸음은 무겁지도 가볍지도 않게 절제되어 있었다. 이화는 학문에 진실한 사람이었으나, 아직 젊은 혈기와 낭만적인 마음도 지녔으니, 세상을 헤쳐나가는 열정과 호기심이 그 눈빛 속에는 가득하였다.\\n\\n그날은 하늘의 기운이 묘하게도 흔들려 구름이 변덕스럽게 움직이더니, 갑작스레 눈앞에 한 여인이 나타났다. 그녀는 마치 허공 속에서 나타난 듯, 물결을 거스르듯이 그 발자국은 흔적이 없었다. 이화는 멈춰서서 그녀를 그윽한 시선으로 주목하였다. 여인의 옷자락은 연못 위의 구름처럼 가볍고 부드러웠으며 얼굴의 고운 빛은 은은한 달빛을 닮았다. 그녀는 선명하게 빛나는 눈동자로 이화를 마주하다가, 입가에 잔잔한 미소를 머금고 입을 열었다.\\n\\n“대감댁 공자님, 어디로 가시는 길입니까?” 그녀의 목소리는 맑은 계곡물처럼 부드럽고 명확하였다. 이화는 약간의 놀라움과 함께 그녀를 찬찬히 살피더니 대답하였다.\\n\\n“소승은 운남으로 과거를 치르러 떠나는 정처 없는 나그넵니다. 그런데 여인이 홀로 이 깊은 산 속에 나타나다니, 실로 괴이하게 여겨지는군요. 무슨 연유로 여기 계시는지 묻고 싶습니다.”\\n\\n여인은 미소를 띠며 그의 물음에 대답하지 않았다. 대신 물끄러미 그의 얼굴을 바라보다가 희미하게 고개를 끄덕이고는 사뿐히 물러섰다. 그녀의 걸음걸이는 마치 물 위를 걷듯이 허공에 묘하게 흩어지며 사라지려 하고 있었다. 그때 이화는 이상하게도 그의 가슴속에서 알 수 없는 끌림이 일어났으니, 그 여인의 아름다운 모습과 형언할 수 없는 단아한 분위기에 매혹되었기 때문이었다.\\n\\n“잠깐만 기다려 주십시오!” 이화는 그녀의 뒤를 쫓아 말을 건넸다. “어디로 가시려는지요? 가는 길에 면면히 무언가 묻고 얻고자 하옵니다.” \\n\\n여인은 발길을 돌리고 가만히 이화를 보았다. “이 깊은 산중에서 길 잃은 이에게 대답해 줄 것은 없습니다. 이 또한 인연이 짧은 걸음이라면, 억지로 붙잡을 수는 없지요.” 그녀의 태도는 냉담하지도 않고, 친밀하지도 않은 중용의 아름다움을 지니고 있었다.\\n\\n그러나 이화의 마음에는 이미 홀리지 않을 수 없는 열망이 자리하였다. 그는 다시 다가가며 말했다. “어느 곳에서 온 누구인지 말해 주실 수는 없겠습니까? 그렇지 않더라도, 이 운명이란 것을 좀 더 알아가게 허락해 주옵소서.” 그의 눈빛에는 간절함과 호기심이 서려 있었고, 그의 말에는 예(禮)가 묻어 있었다.\\n\\n조금의 망설임 끝에 여인은 이화의 요청을 받아들였다. 둘은 한동안 말을 나누다 점점 서로에 대해 알게 되었고, 이화는 그녀에게 끌리는 마음을 결국 억누를 수 없었다. 여인의 고운 얼굴빛에 비칠 뿐 아니라, 그 맑고 단아한 말씨에 그의 가슴은 점점 빠져들었고, 이윽고 운명이라 믿는 마음으로 그녀에게 애정을 표현하였다.\\n\\n그들의 대화와 시선이 깊어지며, 여인의 얼굴에는 조금의 비감도 드리워졌는데, 그녀는 덧없고 아련한 말투로 말했다. “선비님과의 만남은 필연의 끈이 닿았으나, 나 또한 한정 없는 존재라. 곧 하늘 아래로 사라질 구름 같은 목숨이라 한시의 흐름으로 화하는 몸, 오래 머물지 못할 것을 아셔야 하옵니다.”\\n\\n그의 가슴은 그녀의 말에 충격과 미련으로 울리며 혼란스러웠으나, 끝내 그는 그녀를 향한 애정을 거둘 수 없었다. “그리하여도 괜찮습니다. 이 모든 것이 덧없다 하더라도, 그럼에도 불구하고 당신의 곁에 있고 싶습니다.” 이화의 목소리에는 강렬한 사랑의 의지가 서려 있었고, 그의 눈은 밝게 빛났다.\\n\\n그러나 그 순간, 그녀의 형상이 마치 흐릿한 안개처럼 허공으로 사라지기 시작했다. 그녀의 존재가 이내 눈앞에서 아스라히 사라지자, 이화는 눈물이 흐르듯 목놓아 잡으려 했으나 허사였다. 남겨진 것은 그녀의 미소와, 가슴 속 메아리처럼 울리는 그녀의 말뿐이었다.\\n\\n그날 이후로 이화는 산을 떠나 다시는 그녀를 만날 수 없었으나, 오랜 세월 그녀의 모습을 마음속 깊이 간직하며, 때로는 꿈에서도 그 모습을 그리워하였다. 세월의 흘렀음에도 그날의 황홀함은 그의 삶 속에 깊이 박혀, 마치 한 편의 시와도 같은 추억으로 살아 숨 쉬고 있었다.'), type='text')], created_at=1740637641, incomplete_at=None, incomplete_details=None, metadata={}, object='thread.message', role='assistant', run_id='run_bD9Y0ugiTzekl19atRKYXHH3', status=None, thread_id='thread_ogoQrqo2yk3XkDYELMDn1IMc'), Message(id='msg_0b5LohV0mFRd9xNx4B3COZV1', assistant_id=None, attachments=[], completed_at=None, content=[TextContentBlock(text=Text(annotations=[], value='다음 이야기를 더 풍부하게 확장해주세요:\\n\\n대나무로 된 젊은 선비는 운남으로 과거시험을 보러 가는 길에, 한 여자가 갑자기 그 앞에 나타나 마치 물 위를 걷는 듯했다. 선비는 그녀에게 물었고, 여인은 웃으며 \"어디로 가는 길입니까?\"라고 물었다. 선비는 길에 대해 이야기했고, 여인은 돌아가려 했다. 선비는 그녀가 매우 아름답고, 그녀의 말이 매우 단정하다고 느꼈다. 그래서 그녀를 붙잡아야겠다고 생각했고, 결국 그녀의 아름다운 몸을 사랑하게 되었다.'), type='text')], created_at=1740637637, incomplete_at=None, incomplete_details=None, metadata={}, object='thread.message', role='user', run_id=None, status=None, thread_id='thread_ogoQrqo2yk3XkDYELMDn1IMc')]\n"
     ]
    }
   ],
   "execution_count": 9
  },
  {
   "cell_type": "markdown",
   "metadata": {},
   "source": [
    "## 4. 제목 및 추천 생성 테스트 (Chat Completion API)"
   ]
  },
  {
   "cell_type": "code",
   "metadata": {
    "ExecuteTime": {
     "end_time": "2025-02-27T06:41:28.490048Z",
     "start_time": "2025-02-27T06:41:27.052550Z"
    }
   },
   "source": [
    "def generate_title_and_recommendations(content, theme):\n",
    "    \"\"\"제목과 추천 이야기를 한 번의 API 호출로 생성\"\"\"\n",
    "    completion = client.chat.completions.create(\n",
    "        model=Config.GPT_MINI_MODEL,\n",
    "        messages=[\n",
    "            {\"role\": \"system\", \"content\": \"\"\"두 가지 작업을 수행해주세요:\n",
    "            1. 제목 생성: 주어진 고전소설 단락에 어울리는 간략한 제목을 생성하세요. 제목은 13글자를 넘기지 마세요.\n",
    "            2. 추천 생성: 주어진 주제와 비슷한 새로운 고전소설 줄거리 생성을 위한 이야기 소스를 3개 생성하세요.\n",
    "               각 추천은 한 문장으로, \"~~이야기\"로 끝나야 합니다. (예: \"모험이 시작되는 이야기\")\n",
    "               영어를 사용하지 마세요.\n",
    "            \n",
    "            JSON 형식으로 응답해주세요:\n",
    "            {\n",
    "                \"title\": \"생성된 제목\",\n",
    "                \"recommendations\": [\"추천1\", \"추천2\", \"추천3\"]\n",
    "            }\"\"\"},\n",
    "            {\"role\": \"user\", \"content\": f\"단락: {content}\\n\\n주제: {theme}\"}\n",
    "        ],\n",
    "        response_format={\"type\": \"json_object\"}\n",
    "    )\n",
    "    \n",
    "    response_text = completion.choices[0].message.content\n",
    "    response_data = json.loads(response_text)\n",
    "    \n",
    "    return response_data\n",
    "\n",
    "# 테스트 실행\n",
    "title_and_recommendations = generate_title_and_recommendations(expanded_story, test_theme)\n",
    "print(\"\\n=== 제목 및 추천 ===\\n\")\n",
    "print(f\"제목: {title_and_recommendations['title']}\")\n",
    "print(\"\\n추천 이야기:\")\n",
    "for i, rec in enumerate(title_and_recommendations['recommendations'], 1):\n",
    "    print(f\"{i}. {rec}\")"
   ],
   "outputs": [
    {
     "name": "stdout",
     "output_type": "stream",
     "text": [
      "\n",
      "=== 제목 및 추천 ===\n",
      "\n",
      "제목: 운명의 만남\n",
      "\n",
      "추천 이야기:\n",
      "1. 선비와 구름의 이야기\n",
      "2. 젊은 선비의 애정 이야기\n",
      "3. 운명적 사랑의 여정 이야기\n"
     ]
    }
   ],
   "execution_count": 10
  },
  {
   "cell_type": "markdown",
   "metadata": {},
   "source": [
    "## 5. 전체 프로세스 통합 테스트"
   ]
  },
  {
   "cell_type": "code",
   "metadata": {
    "ExecuteTime": {
     "end_time": "2025-02-27T06:43:10.970436Z",
     "start_time": "2025-02-27T06:42:35.825295Z"
    }
   },
   "source": [
    "def generate_complete_story(theme, tags={}):\n",
    "    \"\"\"전체 스토리 생성 프로세스 통합 테스트\"\"\"\n",
    "    print(\"1. 기본 스토리 생성 중...\")\n",
    "    base_story = generate_base_story(theme, tags)\n",
    "    print(f\"   완료! ({len(base_story)} 글자)\\n\")\n",
    "    \n",
    "    print(\"2. 스토리 확장 중...\")\n",
    "    expanded_story = expand_story_with_assistant(base_story)\n",
    "    print(f\"   완료! ({len(expanded_story)} 글자)\\n\")\n",
    "    \n",
    "    print(\"3. 제목 및 추천 생성 중...\")\n",
    "    result = generate_title_and_recommendations(expanded_story, theme)\n",
    "    print(\"   완료!\\n\")\n",
    "    \n",
    "    return {\n",
    "        \"base_story\": base_story,\n",
    "        \"expanded_story\": expanded_story,\n",
    "        \"title\": result[\"title\"],\n",
    "        \"recommendations\": result[\"recommendations\"]\n",
    "    }\n",
    "\n",
    "# 새로운 테마로 테스트\n",
    "new_theme = \"산속 암자에서 수행하던 스님이 오래된 비밀을 간직한 여인을 만나 갈등하는 이야기\"\n",
    "new_tags = {\n",
    "    \"genre\": [\"역사\", \"드라마\"],\n",
    "    \"characters\": [\"스님\", \"여인\"],\n",
    "    \"emotion\": [\"갈등\", \"고뇌\"],\n",
    "    \"location\": [\"산속\", \"암자\"]\n",
    "}\n",
    "\n",
    "result = generate_complete_story(new_theme, new_tags)\n",
    "\n",
    "# 결과 출력\n",
    "print(\"\\n=== 최종 결과 ===\\n\")\n",
    "print(f\"제목: {result['title']}\\n\")\n",
    "print(\"확장된 스토리:\")\n",
    "print(result['expanded_story'][:500] + \"...\\n\")\n",
    "print(\"추천 이야기:\")\n",
    "for i, rec in enumerate(result['recommendations'], 1):\n",
    "    print(f\"{i}. {rec}\")"
   ],
   "outputs": [
    {
     "name": "stdout",
     "output_type": "stream",
     "text": [
      "1. 기본 스토리 생성 중...\n",
      "   완료! (466 글자)\n",
      "\n",
      "2. 스토리 확장 중...\n",
      "[DEBUG]: run response: Run(id='run_3k1InKVFgnZRSxv0IVPxKdB2', assistant_id='asst_Mp2a52hDvIkr0oEk7xdqiKnA', cancelled_at=None, completed_at=None, created_at=1740638565, expires_at=1740639165, failed_at=None, incomplete_details=None, instructions='당신은 고전 문학 전문 작가입니다. 주어진 내용을 기반으로 더 풍부하고 자세한 내용의 이야기를 생성해주세요.\\n\\n다음 지침을 반드시 따라주세요:\\n1. 고전 문학의 특징적인 표현과 문체를 사용해주세요.\\n2. 모든 외래어와 현대적 표현은 주어진 내용이더라도 예외 없이 한자어나 순우리말로 바꾸어야 합니다.\\n   변환 원칙:\\n   - 현대 과학용어는 천지조화/자연의 이치 관련 한자어로 변환\\n   - 괴물/요정 등은 귀신/요괴/괴이한 것 등 전통적 초자연 존재로 변환\\n   - 현대 직업/역할은 그에 준하는 전통 직업/역할로 변환\\n   - 현대 사회 용어는 그 본질적 의미를 담은 한자어로 변환\\n   \\n   예시:\\n   - 하이틴 로맨스 → 꽃다운 나이의 사랑 이야기\\n   - 빌런 → 악인\\n3. 판타지적이거나 비현실적인 요소는 처음 등장할 때 그 특성을 상세히 설명한 후, 이후에는 정해진 한자어나 순우리말로 표현하세요.\\n   설명 원칙:\\n   - 그 존재/현상의 본질적 특성을 먼저 서술\\n   - 전통적인 귀신/요괴 명명법을 따라 적절한 한자어 작명\\n   - 이후 그 한자어 명칭을 일관되게 사용\\n   \\n   예시:\\n   - 좀비 → \"기괴한 몰골에 악취를 풍기고 짐승 소리를 내며 인육을 탐하는 자들이 나타났다. 특히 사람의 피에 민감히 반응하니, 이는 곧 생사역(生死疫)이라 불리는 괴질이라.\" 설명 후 \\'생사역 걸린 자\\'로 지속 사용\\n4. 시대적 배경과 분위기를 자연스럽게 반영해주세요.\\n5. 새로운 사건이나 인물을 추가하지 말고, 기존 내용을 더 풍부하게 표현해주세요.\\n6. 인물의 심리 묘사, 배경 설명, 상황 묘사를 더 상세하게 추가해주세요.\\n7. 문장 간의 자연스러운 연결과 흐름을 유지해주세요.\\n8. 원본 내용의 핵심 내용, 인물, 사건, 감정을 유지하면서 확장해주세요.\\n\\n결과물은 하나의 이야기로 작성해주세요.\\n', last_error=None, max_completion_tokens=None, max_prompt_tokens=None, metadata={}, model='gpt-4o-2024-11-20', object='thread.run', parallel_tool_calls=True, required_action=None, response_format='auto', started_at=None, status='queued', thread_id='thread_ogoQrqo2yk3XkDYELMDn1IMc', tool_choice='auto', tools=[], truncation_strategy=TruncationStrategy(type='auto', last_messages=None), usage=None, temperature=1.0, top_p=1.0, tool_resources={}, reasoning_effort=None)\n",
      "Assistant API 처리 중.............. 완료!\n",
      "   완료! (2154 글자)\n",
      "\n",
      "3. 제목 및 추천 생성 중...\n",
      "   완료!\n",
      "\n",
      "\n",
      "=== 최종 결과 ===\n",
      "\n",
      "제목: 민낯의 비밀\n",
      "\n",
      "확장된 스토리:\n",
      "깊고도 고요한 산중, 하늘과 맞닿을 듯한 봉우리 아래, 작은 암자 하나가 자리하고 있었다. 그곳은 세상과의 인연을 끊은 채, 오로지 속세를 떠나 마음을 닦는 수행자들의 안식처였다. 암자에는 나이가 어려 보이지 않는 한 스님이 머물고 있었으니, 그 이름은 혜운(慧雲)이라 하였다. 혜운은 단출한 옷차림에 무심한 듯한 태도를 가졌으나, 그의 마음은 대자비로 가득하였다. 비록 세속과 멀어지려 애쓴 지 수 년이 되었으나, 가끔씩 흘러오는 바람 내음 속, 과거의 인연들이 자신의 마음을 흔들곤 하였다.\n",
      "\n",
      "어느 날, 해는 저물어 어둠이 슬며시 산허리를 타고 내려왔고, 바람에 실려오는 묘한 냄새가 혜운의 감각을 자극하였다. 문 밖으로 나가보니 달빛 아래, 한 여인이 그곳에 서 있었다. 그녀의 형상은 마치 먼 곳에서 떠돌아온 구름처럼 희미하게 빛났고, 옷자락은 은은한 밤바람에 흔들렸다. 그녀의 얼굴은 고운 달빛을 받아 신비롭게 빛나고 있었다. 이윽고 그녀는 한 걸음 다가와 혜운을 똑바로 바라보며 말했...\n",
      "\n",
      "추천 이야기:\n",
      "1. 세상과의 단절이야기\n",
      "2. 신비한 여인과의 약속이야기\n",
      "3. 암자에서의 갈등이야기\n"
     ]
    }
   ],
   "execution_count": 11
  },
  {
   "cell_type": "markdown",
   "metadata": {},
   "source": [
    "## 6. 결과 저장"
   ]
  },
  {
   "cell_type": "code",
   "metadata": {
    "ExecuteTime": {
     "end_time": "2025-02-27T06:43:41.404817Z",
     "start_time": "2025-02-27T06:43:41.401480Z"
    }
   },
   "source": [
    "# 결과를 JSON 파일로 저장\n",
    "output_file = \"test_results.json\"\n",
    "with open(output_file, \"w\", encoding=\"utf-8\") as f:\n",
    "    json.dump(result, f, ensure_ascii=False, indent=2)\n",
    "\n",
    "print(f\"\\n결과가 {output_file}에 저장되었습니다.\")"
   ],
   "outputs": [
    {
     "name": "stdout",
     "output_type": "stream",
     "text": [
      "\n",
      "결과가 test_results.json에 저장되었습니다.\n"
     ]
    }
   ],
   "execution_count": 13
  }
 ],
 "metadata": {
  "kernelspec": {
   "display_name": "story-tool",
   "language": "python",
   "name": "python3"
  },
  "language_info": {
   "codemirror_mode": {
    "name": "ipython",
    "version": 3
   },
   "file_extension": ".py",
   "mimetype": "text/x-python",
   "name": "python",
   "nbconvert_exporter": "python",
   "pygments_lexer": "ipython3",
   "version": "3.12.9"
  }
 },
 "nbformat": 4,
 "nbformat_minor": 4
}
